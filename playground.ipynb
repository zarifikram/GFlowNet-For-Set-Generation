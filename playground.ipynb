{
 "cells": [
  {
   "cell_type": "code",
   "execution_count": 1,
   "id": "e9db00e2-5d5c-4643-8baf-ee715bf4d1db",
   "metadata": {},
   "outputs": [],
   "source": [
    "%load_ext autoreload\n",
    "%autoreload 2"
   ]
  },
  {
   "cell_type": "code",
   "execution_count": 2,
   "id": "45fab29c-d4a1-4912-bd08-173fdb01f5c9",
   "metadata": {},
   "outputs": [],
   "source": [
    "from gflownet.gflownet import GFlowNet\n",
    "from policy import ForwardPolicy, BackwardPolicy\n",
    "from setGenerationEnv import SetGenerationEnv\n",
    "from gflownet.utils import trajectory_balance_loss\n",
    "from torch.optim import Adam\n",
    "from tqdm import tqdm\n",
    "import torch "
   ]
  },
  {
   "cell_type": "code",
   "execution_count": 81,
   "id": "4fc236ba-ec84-48fc-aecc-521f965859a7",
   "metadata": {},
   "outputs": [
    {
     "name": "stdout",
     "output_type": "stream",
     "text": [
      "tensor([[0., 3., 0., 0.],\n",
      "        [4., 0., 0., 0.]])\n",
      "tensor([1., 0.])\n"
     ]
    }
   ],
   "source": [
    "bcz_size = 2\n",
    "size = 4\n",
    "nActions = 4\n",
    "setEnv = SetGenerationEnv(size, nActions)\n",
    "\n",
    "s0 = torch.zeros(bcz_size, size).float()\n",
    "curr0 = torch.tensor([1.0, 0.0])\n",
    "actions = torch.tensor([2, 3])\n",
    "\n",
    "s, curr = setEnv.update(s0, curr0, actions)\n",
    "print(s)\n",
    "print(curr)"
   ]
  },
  {
   "cell_type": "code",
   "execution_count": 83,
   "id": "28a6ec4a-c2c0-4fb3-ac8a-7d429b5b94cf",
   "metadata": {},
   "outputs": [
    {
     "name": "stdout",
     "output_type": "stream",
     "text": [
      "tensor([[1., 3., 0., 3.],\n",
      "        [4., 0., 0., 0.]])\n",
      "tensor([2., 0.])\n"
     ]
    },
    {
     "data": {
      "text/plain": [
       "tensor([[1., 1., 1., 1., 0., 0., 0.],\n",
       "        [0., 0., 0., 0., 0., 1., 0.]])"
      ]
     },
     "execution_count": 83,
     "metadata": {},
     "output_type": "execute_result"
    }
   ],
   "source": [
    "s[0][0] = 1\n",
    "s[0][3] = 3\n",
    "curr[0] = 2\n",
    "print(s)\n",
    "print(curr)\n",
    "\n",
    "setEnv.mask(s, curr)"
   ]
  },
  {
   "cell_type": "code",
   "execution_count": 52,
   "id": "8692e283-1305-482c-9136-749c45affff5",
   "metadata": {},
   "outputs": [
    {
     "data": {
      "text/plain": [
       "tensor([[0.0000, 0.0000, 0.3333, 0.0000, 0.3333, 0.3333, 0.0000],\n",
       "        [0.0000, 0.0000, 0.0000, 0.5000, 0.5000, 0.0000, 0.0000]])"
      ]
     },
     "execution_count": 52,
     "metadata": {},
     "output_type": "execute_result"
    }
   ],
   "source": [
    "backward_policy = BackwardPolicy(setEnv.state_dim, num_actions=setEnv.num_actions)\n",
    "backward_policy(s, curr)"
   ]
  },
  {
   "cell_type": "code",
   "execution_count": 53,
   "id": "100430b1-8dac-4653-8fa3-924ecdf0d38e",
   "metadata": {},
   "outputs": [
    {
     "data": {
      "text/plain": [
       "tensor([[0.0813, 0.2297, 0.1632, 0.1131, 0.0895, 0.1325, 0.1906],\n",
       "        [0.1441, 0.1092, 0.1049, 0.0915, 0.0854, 0.2831, 0.1819]],\n",
       "       grad_fn=<SoftmaxBackward0>)"
      ]
     },
     "execution_count": 53,
     "metadata": {},
     "output_type": "execute_result"
    }
   ],
   "source": [
    "forward_policy = ForwardPolicy(setEnv.state_dim, hidden_dim=32, num_actions=setEnv.num_actions)\n",
    "forward_policy(s)"
   ]
  },
  {
   "cell_type": "code",
   "execution_count": null,
   "id": "05c92429-9dee-4f7b-943d-77782cc39ab9",
   "metadata": {},
   "outputs": [],
   "source": []
  }
 ],
 "metadata": {
  "kernelspec": {
   "display_name": "Python 3 (ipykernel)",
   "language": "python",
   "name": "python3"
  },
  "language_info": {
   "codemirror_mode": {
    "name": "ipython",
    "version": 3
   },
   "file_extension": ".py",
   "mimetype": "text/x-python",
   "name": "python",
   "nbconvert_exporter": "python",
   "pygments_lexer": "ipython3",
   "version": "3.9.7"
  }
 },
 "nbformat": 4,
 "nbformat_minor": 5
}
