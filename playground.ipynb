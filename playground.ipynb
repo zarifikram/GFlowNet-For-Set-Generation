{
 "cells": [
  {
   "cell_type": "code",
   "execution_count": 1,
   "id": "e9db00e2-5d5c-4643-8baf-ee715bf4d1db",
   "metadata": {},
   "outputs": [],
   "source": [
    "%load_ext autoreload\n",
    "%autoreload 2"
   ]
  },
  {
   "cell_type": "code",
   "execution_count": 2,
   "id": "45fab29c-d4a1-4912-bd08-173fdb01f5c9",
   "metadata": {},
   "outputs": [],
   "source": [
    "from gflownet.gflownet import GFlowNet\n",
    "from policy import ForwardPolicy, BackwardPolicy\n",
    "from setGenerationEnv import SetGenerationEnv\n",
    "from gflownet.utils import trajectory_balance_loss\n",
    "from torch.optim import Adam\n",
    "from tqdm import tqdm\n",
    "import torch "
   ]
  },
  {
   "cell_type": "code",
   "execution_count": 24,
   "id": "4fc236ba-ec84-48fc-aecc-521f965859a7",
   "metadata": {},
   "outputs": [
    {
     "name": "stdout",
     "output_type": "stream",
     "text": [
      "tensor([[0., 3., 0., 0.],\n",
      "        [4., 0., 0., 0.]])\n",
      "tensor([1., 0.])\n"
     ]
    }
   ],
   "source": [
    "bcz_size = 2\n",
    "size = 4\n",
    "nActions = 4\n",
    "setEnv = SetGenerationEnv(size, nActions)\n",
    "\n",
    "s0 = torch.zeros(bcz_size, size).float()\n",
    "curr0 = torch.tensor([1.0, 0.0])\n",
    "actions = torch.tensor([2, 3])\n",
    "\n",
    "s, curr = setEnv.update(s0, curr0, actions)\n",
    "print(s)\n",
    "print(curr)"
   ]
  },
  {
   "cell_type": "code",
   "execution_count": 25,
   "id": "28a6ec4a-c2c0-4fb3-ac8a-7d429b5b94cf",
   "metadata": {},
   "outputs": [
    {
     "data": {
      "text/plain": [
       "tensor([[0., 0., 0., 0., 1., 1., 0.],\n",
       "        [0., 0., 0., 0., 0., 1., 0.]])"
      ]
     },
     "execution_count": 25,
     "metadata": {},
     "output_type": "execute_result"
    }
   ],
   "source": [
    "setEnv.mask(s, curr)"
   ]
  },
  {
   "cell_type": "code",
   "execution_count": 28,
   "id": "8692e283-1305-482c-9136-749c45affff5",
   "metadata": {},
   "outputs": [
    {
     "data": {
      "text/plain": [
       "tensor([ 9.0100, 16.0100])"
      ]
     },
     "execution_count": 28,
     "metadata": {},
     "output_type": "execute_result"
    }
   ],
   "source": []
  },
  {
   "cell_type": "code",
   "execution_count": 29,
   "id": "100430b1-8dac-4653-8fa3-924ecdf0d38e",
   "metadata": {},
   "outputs": [
    {
     "data": {
      "text/plain": [
       "tensor([[0., 3., 0., 0.],\n",
       "        [4., 0., 0., 0.]])"
      ]
     },
     "execution_count": 29,
     "metadata": {},
     "output_type": "execute_result"
    }
   ],
   "source": []
  },
  {
   "cell_type": "code",
   "execution_count": null,
   "id": "05c92429-9dee-4f7b-943d-77782cc39ab9",
   "metadata": {},
   "outputs": [],
   "source": []
  }
 ],
 "metadata": {
  "kernelspec": {
   "display_name": "Python 3 (ipykernel)",
   "language": "python",
   "name": "python3"
  },
  "language_info": {
   "codemirror_mode": {
    "name": "ipython",
    "version": 3
   },
   "file_extension": ".py",
   "mimetype": "text/x-python",
   "name": "python",
   "nbconvert_exporter": "python",
   "pygments_lexer": "ipython3",
   "version": "3.9.7"
  }
 },
 "nbformat": 4,
 "nbformat_minor": 5
}
